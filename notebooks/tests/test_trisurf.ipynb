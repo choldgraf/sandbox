{
 "cells": [
  {
   "cell_type": "code",
   "execution_count": null,
   "metadata": {
    "collapsed": false
   },
   "outputs": [],
   "source": [
    "import plotly as py\n",
    "import plotly.graph_objs as go\n",
    "from plotly.tools import FigureFactory as FF\n",
    "import numpy as np\n",
    "from scipy.spatial import Delaunay\n",
    "import time\n",
    "\n",
    "# Offline plotting\n",
    "from plotly.offline import iplot\n",
    "from plotly.offline import init_notebook_mode\n",
    "\n",
    "init_notebook_mode()"
   ]
  },
  {
   "cell_type": "code",
   "execution_count": null,
   "metadata": {
    "collapsed": false
   },
   "outputs": [],
   "source": [
    "# Create the shape\n",
    "n_step = 450\n",
    "u = np.linspace(0, 2*np.pi, n_step)\n",
    "v = np.linspace(0, 2*np.pi, n_step)\n",
    "u,v = np.meshgrid(u,v)\n",
    "u = u.flatten()\n",
    "v = v.flatten()\n",
    "\n",
    "x = (3 + (np.cos(v)))*np.cos(u)\n",
    "y = (3 + (np.cos(v)))*np.sin(u)\n",
    "z = np.sin(v)\n",
    "\n",
    "points2D = np.vstack([u,v]).T\n",
    "tri = Delaunay(points2D)\n",
    "simplices = tri.simplices\n",
    "colors = np.random.randn(simplices.shape[0])\n",
    "\n",
    "# Target number of triangles is ~400,000\n",
    "print(simplices.shape)"
   ]
  },
  {
   "cell_type": "code",
   "execution_count": null,
   "metadata": {
    "collapsed": false
   },
   "outputs": [],
   "source": [
    "%%time\n",
    "# Potential python optimizations here\n",
    "fig1 = FF.create_trisurf(x=x, y=y, z=z, color_func=colors,\n",
    "                         simplices=simplices,\n",
    "                         title=\"Torus\", plot_edges=False)"
   ]
  },
  {
   "cell_type": "code",
   "execution_count": null,
   "metadata": {
    "collapsed": false
   },
   "outputs": [],
   "source": [
    "%%time\n",
    "# And here\n",
    "# Note, the `time` function isn't reliable for the JS\n",
    "# because the python kernel is freed up before the JS finishes displaying\n",
    "iplot(fig1)"
   ]
  }
 ],
 "metadata": {
  "kernelspec": {
   "display_name": "Python 2",
   "language": "python",
   "name": "python2"
  },
  "language_info": {
   "codemirror_mode": {
    "name": "ipython",
    "version": 2
   },
   "file_extension": ".py",
   "mimetype": "text/x-python",
   "name": "python",
   "nbconvert_exporter": "python",
   "pygments_lexer": "ipython2",
   "version": "2.7.11"
  }
 },
 "nbformat": 4,
 "nbformat_minor": 0
}
